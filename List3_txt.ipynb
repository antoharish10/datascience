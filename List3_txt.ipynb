{
  "nbformat": 4,
  "nbformat_minor": 0,
  "metadata": {
    "colab": {
      "name": "List3.txt",
      "provenance": [],
      "include_colab_link": true
    },
    "kernelspec": {
      "name": "python3",
      "display_name": "Python 3"
    },
    "language_info": {
      "name": "python"
    }
  },
  "cells": [
    {
      "cell_type": "markdown",
      "metadata": {
        "id": "view-in-github",
        "colab_type": "text"
      },
      "source": [
        "<a href=\"https://colab.research.google.com/github/antoharish10/datascience/blob/main/List3_txt.ipynb\" target=\"_parent\"><img src=\"https://colab.research.google.com/assets/colab-badge.svg\" alt=\"Open In Colab\"/></a>"
      ]
    },
    {
      "cell_type": "markdown",
      "metadata": {
        "id": "JLMIEkEeJCGF"
      },
      "source": [
        "**Print all items in the list, one by one**"
      ]
    },
    {
      "cell_type": "code",
      "metadata": {
        "id": "q2lnGzpuJGlF"
      },
      "source": [
        "thislist = [\"apple\", \"banana\", \"cherry\"]\n",
        "for x in thislist:\n",
        "  print(x)"
      ],
      "execution_count": null,
      "outputs": []
    },
    {
      "cell_type": "markdown",
      "metadata": {
        "id": "24wlQ3JgJJZ9"
      },
      "source": [
        "**Print all items by referring to their index number**"
      ]
    },
    {
      "cell_type": "code",
      "metadata": {
        "id": "NkdvI-iGJNJN"
      },
      "source": [
        "thislist = [\"apple\", \"banana\", \"cherry\"]\n",
        "for i in range(len(thislist)):\n",
        "  print(thislist[i])"
      ],
      "execution_count": null,
      "outputs": []
    },
    {
      "cell_type": "markdown",
      "metadata": {
        "id": "AXYQIa5nJSjn"
      },
      "source": [
        "**Print all items, using a while loop to go through all the index numbers**"
      ]
    },
    {
      "cell_type": "code",
      "metadata": {
        "id": "AHFpnhlqJYP_"
      },
      "source": [
        "thislist = [\"apple\", \"banana\", \"cherry\"]\n",
        "i = 0\n",
        "while i < len(thislist):\n",
        "  print(thislist[i])\n",
        "  i = i + 1"
      ],
      "execution_count": null,
      "outputs": []
    },
    {
      "cell_type": "markdown",
      "metadata": {
        "id": "CbYQiS8sJe9H"
      },
      "source": [
        "**A short hand for loop that will print all items in a list**"
      ]
    },
    {
      "cell_type": "code",
      "metadata": {
        "id": "eQZ5hjl2Jhd4"
      },
      "source": [
        "thislist = [\"apple\", \"banana\", \"cherry\"]\n",
        "[print(x) for x in thislist]"
      ],
      "execution_count": null,
      "outputs": []
    },
    {
      "cell_type": "markdown",
      "metadata": {
        "id": "z9_ILGGXJj-Y"
      },
      "source": [
        "**Sort the list alphabetically**"
      ]
    },
    {
      "cell_type": "code",
      "metadata": {
        "id": "NcUG1ciFJuNj"
      },
      "source": [
        "thislist = [\"orange\", \"mango\", \"kiwi\", \"pineapple\", \"banana\"]\n",
        "thislist.sort()\n",
        "print(thislist)\n"
      ],
      "execution_count": null,
      "outputs": []
    },
    {
      "cell_type": "markdown",
      "metadata": {
        "id": "6Uy_x9j7Jw6D"
      },
      "source": [
        "**Sort the list numerically**"
      ]
    },
    {
      "cell_type": "code",
      "metadata": {
        "id": "nV6NvXX6J0-E"
      },
      "source": [
        "thislist = [100, 50, 65, 82, 23]\n",
        "thislist.sort()\n",
        "print(thislist)"
      ],
      "execution_count": null,
      "outputs": []
    },
    {
      "cell_type": "markdown",
      "metadata": {
        "id": "s64CqSSqJ4Xc"
      },
      "source": [
        "**Sort the list descending**"
      ]
    },
    {
      "cell_type": "code",
      "metadata": {
        "id": "A_sAJANBJ8S9"
      },
      "source": [
        "thislist = [\"orange\", \"mango\", \"kiwi\", \"pineapple\", \"banana\"]\n",
        "thislist.sort(reverse = True)\n",
        "print(thislist)"
      ],
      "execution_count": null,
      "outputs": []
    },
    {
      "cell_type": "markdown",
      "metadata": {
        "id": "43h7mdHOKDNG"
      },
      "source": [
        "**Sort the list descending**"
      ]
    },
    {
      "cell_type": "code",
      "metadata": {
        "id": "iF7zLeZQKF6F"
      },
      "source": [
        "thislist = [100, 50, 65, 82, 23]\n",
        "thislist.sort(reverse = True)\n",
        "print(thislist)"
      ],
      "execution_count": null,
      "outputs": []
    },
    {
      "cell_type": "markdown",
      "metadata": {
        "id": "6GsgZ5TLKUQ3"
      },
      "source": [
        "**Sort the list based on how close the number is to 50**"
      ]
    },
    {
      "cell_type": "code",
      "metadata": {
        "id": "csduLN4UKX0D"
      },
      "source": [
        "def myfunc(n):\n",
        "  return abs(n - 50)\n",
        "\n",
        "thislist = [100, 50, 65, 82, 23]\n",
        "thislist.sort(key = myfunc)\n",
        "print(thislist)"
      ],
      "execution_count": null,
      "outputs": []
    },
    {
      "cell_type": "markdown",
      "metadata": {
        "id": "1isojn_dKlN6"
      },
      "source": [
        "**Case sensitive sorting can give an unexpected result**"
      ]
    },
    {
      "cell_type": "code",
      "metadata": {
        "id": "DX62Up2NKokT"
      },
      "source": [
        "thislist = [\"banana\", \"Orange\", \"Kiwi\", \"cherry\"]\n",
        "thislist.sort()\n",
        "print(thislist)"
      ],
      "execution_count": null,
      "outputs": []
    },
    {
      "cell_type": "markdown",
      "metadata": {
        "id": "EJjV9KkkKtjy"
      },
      "source": [
        "**Perform a case-insensitive sort of the list**"
      ]
    },
    {
      "cell_type": "code",
      "metadata": {
        "id": "nz42z31WKwsT"
      },
      "source": [
        "thislist = [\"banana\", \"Orange\", \"Kiwi\", \"cherry\"]\n",
        "thislist.sort(key = str.lower)\n",
        "print(thislist)"
      ],
      "execution_count": null,
      "outputs": []
    },
    {
      "cell_type": "markdown",
      "metadata": {
        "id": "aQpfTA5BK7MT"
      },
      "source": [
        "**Reverse the order of the list items**"
      ]
    },
    {
      "cell_type": "code",
      "metadata": {
        "id": "N1vtjrrRK-pM"
      },
      "source": [
        "thislist = [\"banana\", \"Orange\", \"Kiwi\", \"cherry\"]\n",
        "thislist.reverse()\n",
        "print(thislist)"
      ],
      "execution_count": null,
      "outputs": []
    },
    {
      "cell_type": "markdown",
      "metadata": {
        "id": "K3UD8xqwLJnO"
      },
      "source": [
        "**Make a copy of a list with the copy() method**"
      ]
    },
    {
      "cell_type": "code",
      "metadata": {
        "id": "4bkBVXgzLN1-"
      },
      "source": [
        "thislist = [\"apple\", \"banana\", \"cherry\"]\n",
        "mylist = thislist.copy()\n",
        "print(mylist)"
      ],
      "execution_count": null,
      "outputs": []
    },
    {
      "cell_type": "markdown",
      "metadata": {
        "id": "ka9h6QLcLSvm"
      },
      "source": [
        "**Make a copy of a list with the list() method**"
      ]
    },
    {
      "cell_type": "code",
      "metadata": {
        "id": "GCJL4kJcRNrb"
      },
      "source": [
        "thislist = [\"apple\", \"banana\", \"cherry\"]\n",
        "mylist = list(thislist)\n",
        "print(mylist)"
      ],
      "execution_count": null,
      "outputs": []
    },
    {
      "cell_type": "markdown",
      "metadata": {
        "id": "s0x0BTh9Lc4x"
      },
      "source": [
        "**Join two list**"
      ]
    },
    {
      "cell_type": "code",
      "metadata": {
        "id": "LbGRuuz7Le8b"
      },
      "source": [
        "list1 = [\"a\", \"b\", \"c\"]\n",
        "list2 = [1, 2, 3]\n",
        "\n",
        "list3 = list2 + list1\n",
        "print(list3)"
      ],
      "execution_count": null,
      "outputs": []
    },
    {
      "cell_type": "markdown",
      "metadata": {
        "id": "jIe_BtpjLkXB"
      },
      "source": [
        "**Append list2 into list1**"
      ]
    },
    {
      "cell_type": "code",
      "metadata": {
        "id": "StFQymm-Lmfr"
      },
      "source": [
        "list1 = [\"a\", \"b\" , \"c\"]\n",
        "list2 = [1, 2, 3]\n",
        "\n",
        "for x in list2:\n",
        "  list1.append(x)\n",
        "\n",
        "print(list1)"
      ],
      "execution_count": null,
      "outputs": []
    },
    {
      "cell_type": "markdown",
      "metadata": {
        "id": "7lgR4QkYLs8T"
      },
      "source": [
        "**Use the extend() method to add list2 at the end of list1**"
      ]
    },
    {
      "cell_type": "code",
      "metadata": {
        "id": "Ugac1XuQLxqr"
      },
      "source": [
        "list1 = [\"a\", \"b\" , \"c\"]\n",
        "list2 = [1, 2, 3]\n",
        "\n",
        "list2.extend(list1)\n",
        "print(list2)"
      ],
      "execution_count": null,
      "outputs": []
    }
  ]
}